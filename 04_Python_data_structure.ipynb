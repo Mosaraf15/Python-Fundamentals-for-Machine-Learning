{
  "nbformat": 4,
  "nbformat_minor": 0,
  "metadata": {
    "colab": {
      "name": "04: Python data structure.ipynb",
      "provenance": [],
      "toc_visible": true,
      "authorship_tag": "ABX9TyNnaukQTgTlckfQ6kI5DxWN",
      "include_colab_link": true
    },
    "kernelspec": {
      "name": "python3",
      "display_name": "Python 3"
    },
    "language_info": {
      "name": "python"
    }
  },
  "cells": [
    {
      "cell_type": "markdown",
      "metadata": {
        "id": "view-in-github",
        "colab_type": "text"
      },
      "source": [
        "<a href=\"https://colab.research.google.com/github/Mosaraf15/Python-Fundamentals-for-Machine-Learning/blob/main/04_Python_data_structure.ipynb\" target=\"_parent\"><img src=\"https://colab.research.google.com/assets/colab-badge.svg\" alt=\"Open In Colab\"/></a>"
      ]
    },
    {
      "cell_type": "markdown",
      "source": [
        "# Python data structure\n",
        "**Md Mosaraf Hossain Khan**,\n",
        "\n",
        "Chittagang, Bangladesh\n",
        "\n",
        "#### Objectives:\n",
        "1. Python Data Structure: List, tuple, dictionary, set\n",
        "\n",
        "#### References:\n",
        "\n",
        "Instructor:\n",
        "**Md Shahidullah Kawsar**,\n",
        "  Data Scientist, IDARE, Houston, TX, USA\n",
        "\n",
        "1. Python - Basic Operators: https://github.com/SKawsar/Python_Fundamentals_s2\n",
        "\n"
      ],
      "metadata": {
        "id": "80sjx6dagizT"
      }
    },
    {
      "cell_type": "markdown",
      "source": [
        "####**List Slicing**"
      ],
      "metadata": {
        "id": "J7egLgF_KH0v"
      }
    },
    {
      "cell_type": "code",
      "source": [
        "\n",
        "name = [\"abul\", \"babul\", \"cabul\", \"dabul\"]\n",
        "contact = [1111, 2222, 3333, 4444]\n",
        "\n",
        "phone_contacts = [name, contact]\n",
        "print(phone_contacts)\n",
        "\n",
        "print(phone_contacts[0])\n",
        "print(phone_contacts[1])\n",
        "print(phone_contacts[0][1])\n",
        "print(phone_contacts[1][2])"
      ],
      "metadata": {
        "colab": {
          "base_uri": "https://localhost:8080/"
        },
        "id": "HYNh5GBmG_fN",
        "outputId": "04db84dc-c2bd-4252-f500-9b96c3beccf1"
      },
      "execution_count": 5,
      "outputs": [
        {
          "output_type": "stream",
          "name": "stdout",
          "text": [
            "[['abul', 'babul', 'cabul', 'dabul'], [1111, 2222, 3333, 4444]]\n",
            "['abul', 'babul', 'cabul', 'dabul']\n",
            "[1111, 2222, 3333, 4444]\n",
            "babul\n",
            "3333\n"
          ]
        }
      ]
    },
    {
      "cell_type": "markdown",
      "source": [
        "#####**Checking length of a string**"
      ],
      "metadata": {
        "id": "xV1wNyhdKcu0"
      }
    },
    {
      "cell_type": "code",
      "source": [
        "\n",
        "print(len(phone_contacts))\n",
        "print(len(phone_contacts[0]))\n",
        "print(len(phone_contacts[1]))\n",
        "print(len(phone_contacts[0][1]))"
      ],
      "metadata": {
        "colab": {
          "base_uri": "https://localhost:8080/"
        },
        "id": "ylwCdjT6HdEC",
        "outputId": "9411eb93-43c0-4955-e1d9-dc6d8f6a01c9"
      },
      "execution_count": 6,
      "outputs": [
        {
          "output_type": "stream",
          "name": "stdout",
          "text": [
            "2\n",
            "4\n",
            "4\n",
            "5\n"
          ]
        }
      ]
    },
    {
      "cell_type": "markdown",
      "source": [
        "#####**Checking the presence of an element in a list**"
      ],
      "metadata": {
        "id": "hulbRXurK-Yk"
      }
    },
    {
      "cell_type": "code",
      "source": [
        "\n",
        "\"Shafiul\" not in phone_contacts"
      ],
      "metadata": {
        "colab": {
          "base_uri": "https://localhost:8080/"
        },
        "id": "ek2oqen_Hgp6",
        "outputId": "63d73b38-2395-441d-fbbd-44b46d3dac19"
      },
      "execution_count": 7,
      "outputs": [
        {
          "output_type": "execute_result",
          "data": {
            "text/plain": [
              "True"
            ]
          },
          "metadata": {},
          "execution_count": 7
        }
      ]
    },
    {
      "cell_type": "markdown",
      "source": [
        "###**Insert a new element in the list**"
      ],
      "metadata": {
        "id": "Vklepi49LUE0"
      }
    },
    {
      "cell_type": "code",
      "source": [
        "even = [2, 4, 6, 8, 10]\n",
        "even.insert(2, 0)\n",
        "print(even)"
      ],
      "metadata": {
        "colab": {
          "base_uri": "https://localhost:8080/"
        },
        "id": "uadzkFy-Hi8p",
        "outputId": "502393d9-6667-44dc-c33c-5b86b1ed7a85"
      },
      "execution_count": 8,
      "outputs": [
        {
          "output_type": "stream",
          "name": "stdout",
          "text": [
            "[2, 4, 0, 6, 8, 10]\n"
          ]
        }
      ]
    },
    {
      "cell_type": "code",
      "source": [
        "even.append(12)\n",
        "\n",
        "print(even)"
      ],
      "metadata": {
        "colab": {
          "base_uri": "https://localhost:8080/"
        },
        "id": "23S9HN_pHnuh",
        "outputId": "c9a45590-80bf-4e63-a531-5119c1dafa83"
      },
      "execution_count": 9,
      "outputs": [
        {
          "output_type": "stream",
          "name": "stdout",
          "text": [
            "[2, 4, 0, 6, 8, 10, 12]\n"
          ]
        }
      ]
    },
    {
      "cell_type": "markdown",
      "source": [
        "###**How to reverse a list?**"
      ],
      "metadata": {
        "id": "VRnb316cLjbW"
      }
    },
    {
      "cell_type": "code",
      "source": [
        "nums = [0,-1,-1,3,9,-9,4,8,7]\n",
        "nums.reverse()\n",
        "print(nums)"
      ],
      "metadata": {
        "colab": {
          "base_uri": "https://localhost:8080/"
        },
        "id": "ebnvBFNwHozA",
        "outputId": "92d28cd3-e264-4bd3-f99b-25ca8979e48c"
      },
      "execution_count": 10,
      "outputs": [
        {
          "output_type": "stream",
          "name": "stdout",
          "text": [
            "[7, 8, 4, -9, 9, 3, -1, -1, 0]\n"
          ]
        }
      ]
    },
    {
      "cell_type": "markdown",
      "source": [
        "###***How to count the frequency of a specific element in a list?***\n",
        "\n",
        "\n"
      ],
      "metadata": {
        "id": "okg07_WjL8zB"
      }
    },
    {
      "cell_type": "code",
      "source": [
        "print(nums.count(-1))"
      ],
      "metadata": {
        "colab": {
          "base_uri": "https://localhost:8080/"
        },
        "id": "RjNa7z8nHrXo",
        "outputId": "b363157c-355a-4814-e69a-09431ae2b0c7"
      },
      "execution_count": 11,
      "outputs": [
        {
          "output_type": "stream",
          "name": "stdout",
          "text": [
            "2\n"
          ]
        }
      ]
    },
    {
      "cell_type": "code",
      "source": [
        ""
      ],
      "metadata": {
        "id": "ATxZGg86L4ZN"
      },
      "execution_count": null,
      "outputs": []
    },
    {
      "cell_type": "markdown",
      "source": [
        "###**How to remove an element from a list?**"
      ],
      "metadata": {
        "id": "-kV7leSsMcYc"
      }
    },
    {
      "cell_type": "code",
      "source": [
        "nums.remove(9)\n",
        "print(nums)"
      ],
      "metadata": {
        "colab": {
          "base_uri": "https://localhost:8080/"
        },
        "id": "XwIf6h0zH1M1",
        "outputId": "cd921d1b-b857-4430-dac0-96afad0197b9"
      },
      "execution_count": 12,
      "outputs": [
        {
          "output_type": "stream",
          "name": "stdout",
          "text": [
            "[7, 8, 4, -9, 3, -1, -1, 0]\n"
          ]
        }
      ]
    },
    {
      "cell_type": "code",
      "source": [
        "nums.pop(4)\n",
        "print(nums)"
      ],
      "metadata": {
        "colab": {
          "base_uri": "https://localhost:8080/"
        },
        "id": "4SyS2gxApwrU",
        "outputId": "081fdd93-6ec5-453d-ddb9-e672ef084909"
      },
      "execution_count": 15,
      "outputs": [
        {
          "output_type": "stream",
          "name": "stdout",
          "text": [
            "[7, 8, 4, -9, -1, -1, 0]\n"
          ]
        }
      ]
    },
    {
      "cell_type": "markdown",
      "source": [
        "###**How to find the minimum value, maximum value and total sum of a list?**"
      ],
      "metadata": {
        "id": "t-RV7f91Mmi3"
      }
    },
    {
      "cell_type": "code",
      "source": [
        "print(\"maximum value = \", max(nums))\n",
        "print(\"minimum value = \", min(nums))\n",
        "print(\"total sum = \", sum(nums))"
      ],
      "metadata": {
        "colab": {
          "base_uri": "https://localhost:8080/"
        },
        "id": "ayFdw3f_H4f0",
        "outputId": "2b5f0c37-a9f6-48c2-88d6-c84ab54ae065"
      },
      "execution_count": 16,
      "outputs": [
        {
          "output_type": "stream",
          "name": "stdout",
          "text": [
            "maximum value =  8\n",
            "minimum value =  -9\n",
            "total sum =  8\n"
          ]
        }
      ]
    },
    {
      "cell_type": "markdown",
      "source": [
        "####***What will happen if you add two lists?***"
      ],
      "metadata": {
        "id": "NU5URC1wM2Je"
      }
    },
    {
      "cell_type": "code",
      "source": [
        "A = [9, 8, 7, 6]\n",
        "B = [99, 88, 77, 66]\n",
        "print(\"A + B = \", A + B) #will contain all the element of A and B"
      ],
      "metadata": {
        "colab": {
          "base_uri": "https://localhost:8080/"
        },
        "id": "prk1zb48H7pj",
        "outputId": "e62f7143-0cb0-4d64-c09a-f2a269ddb67f"
      },
      "execution_count": 17,
      "outputs": [
        {
          "output_type": "stream",
          "name": "stdout",
          "text": [
            "A + B =  [9, 8, 7, 6, 99, 88, 77, 66]\n"
          ]
        }
      ]
    },
    {
      "cell_type": "markdown",
      "source": [
        "###**How to sort a list?**"
      ],
      "metadata": {
        "id": "hxZZXwreM_I6"
      }
    },
    {
      "cell_type": "code",
      "source": [
        "print(sorted(A, reverse= False))\n",
        "print(sorted(A, reverse= True))"
      ],
      "metadata": {
        "colab": {
          "base_uri": "https://localhost:8080/"
        },
        "id": "tRkB2eVUH80h",
        "outputId": "6d41bedd-7e4f-485b-ddf8-e31e9acb36f2"
      },
      "execution_count": 18,
      "outputs": [
        {
          "output_type": "stream",
          "name": "stdout",
          "text": [
            "[6, 7, 8, 9]\n",
            "[9, 8, 7, 6]\n"
          ]
        }
      ]
    },
    {
      "cell_type": "markdown",
      "source": [
        "###**Tuple**\n",
        "1. tuple is used with parentheses\n",
        "2. tuple is immutable --> most important"
      ],
      "metadata": {
        "id": "lgTJvv9OM9ft"
      }
    },
    {
      "cell_type": "code",
      "source": [
        "a = ('the', 'fault', 'in', 'our', 'stars')\n",
        "print(type(a))"
      ],
      "metadata": {
        "colab": {
          "base_uri": "https://localhost:8080/"
        },
        "id": "arb-bq11IA6r",
        "outputId": "48fbe26f-58b9-4a68-edb3-bb7989f7c684"
      },
      "execution_count": 19,
      "outputs": [
        {
          "output_type": "stream",
          "name": "stdout",
          "text": [
            "<class 'tuple'>\n"
          ]
        }
      ]
    },
    {
      "cell_type": "markdown",
      "source": [
        "####**Tuple slicing**"
      ],
      "metadata": {
        "id": "CaHhmbNxM8Up"
      }
    },
    {
      "cell_type": "code",
      "source": [
        "print(a[0])\n",
        "print(a[-1])\n",
        "print(a[1:3])"
      ],
      "metadata": {
        "colab": {
          "base_uri": "https://localhost:8080/"
        },
        "id": "1dGd1HSCICUK",
        "outputId": "0ae45cb7-6076-4132-ae92-05c34b44d9aa"
      },
      "execution_count": 20,
      "outputs": [
        {
          "output_type": "stream",
          "name": "stdout",
          "text": [
            "the\n",
            "stars\n",
            "('fault', 'in')\n"
          ]
        }
      ]
    },
    {
      "cell_type": "markdown",
      "source": [
        "###**Immutability**"
      ],
      "metadata": {
        "id": "FjQFU4szM6bm"
      }
    },
    {
      "cell_type": "code",
      "source": [
        "T = (8, 9, 'absolute', [1, 2])\n",
        "# T[0] = 2 #will throw an error"
      ],
      "metadata": {
        "id": "3WFSHF56IG7F"
      },
      "execution_count": 21,
      "outputs": []
    },
    {
      "cell_type": "markdown",
      "source": [
        "####**You cannot change any value inside a tuple and you cannot insert or delete as well**"
      ],
      "metadata": {
        "id": "27vQbpYcM4gb"
      }
    },
    {
      "cell_type": "code",
      "source": [
        "#some functions that can be used with tuple\n",
        "Z = (2, 7, 1)\n",
        "print(len(Z))\n",
        "print(max(Z))\n",
        "print(min(Z))\n",
        "print(sum(Z))\n",
        "print(Z.count(7))"
      ],
      "metadata": {
        "colab": {
          "base_uri": "https://localhost:8080/"
        },
        "id": "IbBtGVMqIJHG",
        "outputId": "8a57a0ea-6eaf-4dc8-bb2f-966575cd6a93"
      },
      "execution_count": 23,
      "outputs": [
        {
          "output_type": "stream",
          "name": "stdout",
          "text": [
            "3\n",
            "7\n",
            "1\n",
            "10\n",
            "1\n"
          ]
        }
      ]
    },
    {
      "cell_type": "markdown",
      "source": [
        "**Similarities in List and Tuple**\n",
        "\n",
        "\n",
        "\n",
        "*   The two data structures are both sequence data types that store collections of items.\n",
        "*   Items of any data type can be stored in them.\n",
        "\n",
        "\n",
        "*   Items can be accessed by their index.\n",
        "\n",
        "**Difference between List and Tuple**\n",
        "\n",
        "\n",
        "*   List is mutable, whereas a tuple is immutable. This means that lists can be changed, and tuples cannot be changed.\n",
        "\n",
        "###**Set**\n",
        "\n",
        "\n",
        "1.   It works with a curly brace--> {}\n",
        "2.   One item can appear only once\n",
        "3.   You cannot slice item from set, unlike lists or tuples\n"
      ],
      "metadata": {
        "id": "S_n-QqssIMED"
      }
    },
    {
      "cell_type": "code",
      "source": [
        "A = {12, 13, 14, 12}\n",
        "print(A) \n",
        "print(type(A))\n",
        "print(len(A))\n",
        "\n",
        "# convert to list\n",
        "A_converted = list(A)\n",
        "print(A_converted)\n",
        "\n",
        "A = {1, 3, 5, 7, 9}\n",
        "B = {1, 2, 4, 7, 9}\n",
        "\n",
        "print(A.union(B))\n",
        "print(A.intersection(B))\n",
        "print(A.difference(B))"
      ],
      "metadata": {
        "colab": {
          "base_uri": "https://localhost:8080/"
        },
        "id": "HXS4t9PWJlk0",
        "outputId": "5162a6f3-cc46-4e5e-e37b-2d43c03df698"
      },
      "execution_count": 24,
      "outputs": [
        {
          "output_type": "stream",
          "name": "stdout",
          "text": [
            "{12, 13, 14}\n",
            "<class 'set'>\n",
            "3\n",
            "[12, 13, 14]\n",
            "{1, 2, 3, 4, 5, 7, 9}\n",
            "{1, 9, 7}\n",
            "{3, 5}\n"
          ]
        }
      ]
    },
    {
      "cell_type": "markdown",
      "source": [
        "###Dictionary"
      ],
      "metadata": {
        "id": "LH9hXxPnJr1J"
      }
    },
    {
      "cell_type": "code",
      "source": [
        "phone_contacts = {\"abul\":1111, \"babul\":2222, \"cabul\":3333, \"dabul\":4444}\n",
        "\n",
        "print(phone_contacts)\n",
        "print(phone_contacts[\"abul\"])\n",
        "print(phone_contacts[\"babul\"])\n",
        "print(phone_contacts[\"cabul\"])\n",
        "print(phone_contacts[\"dabul\"])\n",
        "\n",
        "print(phone_contacts.keys())\n",
        "print(phone_contacts.values())\n",
        "# print(phone_contacts.items())"
      ],
      "metadata": {
        "colab": {
          "base_uri": "https://localhost:8080/"
        },
        "id": "fr1yxKySJwjb",
        "outputId": "8121f05c-9839-4fa1-cdb9-b1a2f1774c05"
      },
      "execution_count": 25,
      "outputs": [
        {
          "output_type": "stream",
          "name": "stdout",
          "text": [
            "{'abul': 1111, 'babul': 2222, 'cabul': 3333, 'dabul': 4444}\n",
            "1111\n",
            "2222\n",
            "3333\n",
            "4444\n",
            "dict_keys(['abul', 'babul', 'cabul', 'dabul'])\n",
            "dict_values([1111, 2222, 3333, 4444])\n"
          ]
        }
      ]
    },
    {
      "cell_type": "code",
      "source": [
        "# adding a new phone number of the existing contact\n",
        "phone_contacts[\"dabul\"] = [4444,5555]\n",
        "print(phone_contacts)"
      ],
      "metadata": {
        "colab": {
          "base_uri": "https://localhost:8080/"
        },
        "id": "A8cz4XDtJ05v",
        "outputId": "4cc7b8c6-0fc8-450f-d10c-49a357950f88"
      },
      "execution_count": 26,
      "outputs": [
        {
          "output_type": "stream",
          "name": "stdout",
          "text": [
            "{'abul': 1111, 'babul': 2222, 'cabul': 3333, 'dabul': [4444, 5555]}\n"
          ]
        }
      ]
    },
    {
      "cell_type": "code",
      "source": [
        "# adding a new contact\n",
        "phone_contacts[\"fabul\"] = 6666\n",
        "print(phone_contacts)"
      ],
      "metadata": {
        "colab": {
          "base_uri": "https://localhost:8080/"
        },
        "id": "JssRDSJqJ4Ug",
        "outputId": "7730e6fd-9aff-4c00-ab9c-8ad096c31459"
      },
      "execution_count": 27,
      "outputs": [
        {
          "output_type": "stream",
          "name": "stdout",
          "text": [
            "{'abul': 1111, 'babul': 2222, 'cabul': 3333, 'dabul': [4444, 5555], 'fabul': 6666}\n"
          ]
        }
      ]
    },
    {
      "cell_type": "code",
      "source": [
        "# updating a dictionary\n",
        "new_dict = {\"gabul\":7777}\n",
        "phone_contacts.update(new_dict)\n",
        "print(phone_contacts)"
      ],
      "metadata": {
        "colab": {
          "base_uri": "https://localhost:8080/"
        },
        "id": "V6tPEqgNJ7V4",
        "outputId": "a0bff1b0-55ab-4696-e57d-e1ceee71c6b3"
      },
      "execution_count": 28,
      "outputs": [
        {
          "output_type": "stream",
          "name": "stdout",
          "text": [
            "{'abul': 1111, 'babul': 2222, 'cabul': 3333, 'dabul': [4444, 5555], 'fabul': 6666, 'gabul': 7777}\n"
          ]
        }
      ]
    },
    {
      "cell_type": "code",
      "source": [
        "# removing a contact from the phonebook\n",
        "del phone_contacts[\"gabul\"]\n",
        "print(phone_contacts)"
      ],
      "metadata": {
        "colab": {
          "base_uri": "https://localhost:8080/"
        },
        "id": "MjirbdpLJ-yu",
        "outputId": "ae8f49e3-2881-435e-9ac9-1eef81ccbfbd"
      },
      "execution_count": 29,
      "outputs": [
        {
          "output_type": "stream",
          "name": "stdout",
          "text": [
            "{'abul': 1111, 'babul': 2222, 'cabul': 3333, 'dabul': [4444, 5555], 'fabul': 6666}\n"
          ]
        }
      ]
    }
  ]
}
{
  "nbformat": 4,
  "nbformat_minor": 0,
  "metadata": {
    "colab": {
      "name": "04: Python data structure.ipynb",
      "provenance": [],
      "authorship_tag": "ABX9TyObzeC3x0iXsCbI/yi5E4BB",
      "include_colab_link": true
    },
    "kernelspec": {
      "name": "python3",
      "display_name": "Python 3"
    },
    "language_info": {
      "name": "python"
    }
  },
  "cells": [
    {
      "cell_type": "markdown",
      "metadata": {
        "id": "view-in-github",
        "colab_type": "text"
      },
      "source": [
        "<a href=\"https://colab.research.google.com/github/Mosaraf15/Python-Fundamentals-for-Machine-Learning/blob/main/04_Python_data_structure.ipynb\" target=\"_parent\"><img src=\"https://colab.research.google.com/assets/colab-badge.svg\" alt=\"Open In Colab\"/></a>"
      ]
    },
    {
      "cell_type": "markdown",
      "source": [
        "# Python data structure\n",
        "**Md Mosaraf Hossain Khan**,\n",
        "\n",
        "Chittagang, Bangladesh\n",
        "\n",
        "#### Objectives:\n",
        "1. Python Data Structure: List, tuple, dictionary, set\n",
        "\n",
        "#### References:\n",
        "\n",
        "Instructor:\n",
        "**Md Shahidullah Kawsar**,\n",
        "  Data Scientist, IDARE, Houston, TX, USA\n",
        "\n",
        "1. Python - Basic Operators: https://github.com/SKawsar/Python_Fundamentals_s2\n",
        "\n"
      ],
      "metadata": {
        "id": "80sjx6dagizT"
      }
    },
    {
      "cell_type": "markdown",
      "source": [
        "####**List Slicing**"
      ],
      "metadata": {
        "id": "J7egLgF_KH0v"
      }
    },
    {
      "cell_type": "code",
      "source": [
        "\n",
        "name = [\"abul\", \"babul\", \"cabul\", \"dabul\"]\n",
        "contact = [1111, 2222, 3333, 4444]\n",
        "\n",
        "phone_contacts = [name, contact]\n",
        "print(phone_contacts)\n",
        "\n",
        "print(phone_contacts[0])\n",
        "print(phone_contacts[1])\n",
        "print(phone_contacts[0][1])\n",
        "print(phone_contacts[1][2])"
      ],
      "metadata": {
        "colab": {
          "base_uri": "https://localhost:8080/"
        },
        "id": "HYNh5GBmG_fN",
        "outputId": "58c597df-b567-4eab-fe49-5bc94b45e19c"
      },
      "execution_count": 1,
      "outputs": [
        {
          "output_type": "stream",
          "name": "stdout",
          "text": [
            "[['abul', 'babul', 'cabul', 'dabul'], [1111, 2222, 3333, 4444]]\n",
            "['abul', 'babul', 'cabul', 'dabul']\n",
            "[1111, 2222, 3333, 4444]\n",
            "babul\n",
            "3333\n"
          ]
        }
      ]
    },
    {
      "cell_type": "markdown",
      "source": [
        "#####**Checking length of a string**"
      ],
      "metadata": {
        "id": "xV1wNyhdKcu0"
      }
    },
    {
      "cell_type": "code",
      "source": [
        "\n",
        "print(len(phone_contacts))\n",
        "print(len(phone_contacts[0]))\n",
        "print(len(phone_contacts[1]))\n",
        "print(len(phone_contacts[0][1]))"
      ],
      "metadata": {
        "colab": {
          "base_uri": "https://localhost:8080/"
        },
        "id": "ylwCdjT6HdEC",
        "outputId": "c8fb97df-ffc8-4e87-93d7-139f57f8630a"
      },
      "execution_count": 2,
      "outputs": [
        {
          "output_type": "stream",
          "name": "stdout",
          "text": [
            "2\n",
            "4\n",
            "4\n",
            "5\n"
          ]
        }
      ]
    },
    {
      "cell_type": "markdown",
      "source": [
        "#####**Checking the presence of an element in a list**"
      ],
      "metadata": {
        "id": "hulbRXurK-Yk"
      }
    },
    {
      "cell_type": "code",
      "source": [
        "\n",
        "\"Shafiul\" not in phone_contacts"
      ],
      "metadata": {
        "colab": {
          "base_uri": "https://localhost:8080/"
        },
        "id": "ek2oqen_Hgp6",
        "outputId": "6b89b816-dc91-420b-ec17-0c03fb76f3e5"
      },
      "execution_count": 3,
      "outputs": [
        {
          "output_type": "execute_result",
          "data": {
            "text/plain": [
              "True"
            ]
          },
          "metadata": {},
          "execution_count": 3
        }
      ]
    },
    {
      "cell_type": "markdown",
      "source": [
        "###**Insert a new element in the list**"
      ],
      "metadata": {
        "id": "Vklepi49LUE0"
      }
    },
    {
      "cell_type": "code",
      "source": [
        "even = [2, 4, 6, 8, 10]\n",
        "even.insert(2, 0)\n",
        "print(even)"
      ],
      "metadata": {
        "colab": {
          "base_uri": "https://localhost:8080/"
        },
        "id": "uadzkFy-Hi8p",
        "outputId": "509156a5-e22a-4718-b2c3-3e4099a7ebee"
      },
      "execution_count": 4,
      "outputs": [
        {
          "output_type": "stream",
          "name": "stdout",
          "text": [
            "[2, 4, 0, 6, 8, 10]\n"
          ]
        }
      ]
    },
    {
      "cell_type": "code",
      "source": [
        "even.append(12)\n",
        "\n",
        "print(even)"
      ],
      "metadata": {
        "colab": {
          "base_uri": "https://localhost:8080/"
        },
        "id": "23S9HN_pHnuh",
        "outputId": "b52da50d-b00a-4d07-cd1b-a8ac60407cbf"
      },
      "execution_count": 5,
      "outputs": [
        {
          "output_type": "stream",
          "name": "stdout",
          "text": [
            "[2, 4, 0, 6, 8, 10, 12]\n"
          ]
        }
      ]
    },
    {
      "cell_type": "markdown",
      "source": [
        "###**How to reverse a list?**"
      ],
      "metadata": {
        "id": "VRnb316cLjbW"
      }
    },
    {
      "cell_type": "code",
      "source": [
        "nums = [0,-1,-1,3,9,-9,4,8,7]\n",
        "nums.reverse()\n",
        "print(nums)"
      ],
      "metadata": {
        "colab": {
          "base_uri": "https://localhost:8080/"
        },
        "id": "ebnvBFNwHozA",
        "outputId": "16db7190-f8b4-4471-e2ad-d0c250fd61b0"
      },
      "execution_count": 6,
      "outputs": [
        {
          "output_type": "stream",
          "name": "stdout",
          "text": [
            "[7, 8, 4, -9, 9, 3, -1, -1, 0]\n"
          ]
        }
      ]
    },
    {
      "cell_type": "markdown",
      "source": [
        "###***How to count the frequency of a specific element in a list?***\n",
        "\n",
        "\n"
      ],
      "metadata": {
        "id": "okg07_WjL8zB"
      }
    },
    {
      "cell_type": "code",
      "source": [
        "print(nums.count(-1))"
      ],
      "metadata": {
        "colab": {
          "base_uri": "https://localhost:8080/"
        },
        "id": "RjNa7z8nHrXo",
        "outputId": "ce5ceeac-0529-4800-81fa-ccbb168b8652"
      },
      "execution_count": 7,
      "outputs": [
        {
          "output_type": "stream",
          "name": "stdout",
          "text": [
            "2\n"
          ]
        }
      ]
    },
    {
      "cell_type": "code",
      "source": [],
      "metadata": {
        "id": "ATxZGg86L4ZN"
      },
      "execution_count": 7,
      "outputs": []
    },
    {
      "cell_type": "markdown",
      "source": [
        "###**How to remove an element from a list?**"
      ],
      "metadata": {
        "id": "-kV7leSsMcYc"
      }
    },
    {
      "cell_type": "code",
      "source": [
        "nums.remove(9)\n",
        "print(nums)"
      ],
      "metadata": {
        "colab": {
          "base_uri": "https://localhost:8080/"
        },
        "id": "XwIf6h0zH1M1",
        "outputId": "c573cdbd-e30a-4935-9a82-ac28ca3a62a9"
      },
      "execution_count": 8,
      "outputs": [
        {
          "output_type": "stream",
          "name": "stdout",
          "text": [
            "[7, 8, 4, -9, 3, -1, -1, 0]\n"
          ]
        }
      ]
    },
    {
      "cell_type": "code",
      "source": [
        "nums.pop(4)\n",
        "print(nums)"
      ],
      "metadata": {
        "colab": {
          "base_uri": "https://localhost:8080/"
        },
        "id": "4SyS2gxApwrU",
        "outputId": "993059e4-8135-4249-b813-b0faee2a9f72"
      },
      "execution_count": 9,
      "outputs": [
        {
          "output_type": "stream",
          "name": "stdout",
          "text": [
            "[7, 8, 4, -9, -1, -1, 0]\n"
          ]
        }
      ]
    },
    {
      "cell_type": "markdown",
      "source": [
        "###**How to find the minimum value, maximum value and total sum of a list?**"
      ],
      "metadata": {
        "id": "t-RV7f91Mmi3"
      }
    },
    {
      "cell_type": "code",
      "source": [
        "print(\"maximum value = \", max(nums))\n",
        "print(\"minimum value = \", min(nums))\n",
        "print(\"total sum = \", sum(nums))"
      ],
      "metadata": {
        "colab": {
          "base_uri": "https://localhost:8080/"
        },
        "id": "ayFdw3f_H4f0",
        "outputId": "0aeb9ce7-fa33-432c-ccf5-f69770fba5d7"
      },
      "execution_count": 10,
      "outputs": [
        {
          "output_type": "stream",
          "name": "stdout",
          "text": [
            "maximum value =  8\n",
            "minimum value =  -9\n",
            "total sum =  8\n"
          ]
        }
      ]
    },
    {
      "cell_type": "markdown",
      "source": [
        "####***What will happen if you add two lists?***"
      ],
      "metadata": {
        "id": "NU5URC1wM2Je"
      }
    },
    {
      "cell_type": "code",
      "source": [
        "A = [9, 8, 7, 6]\n",
        "B = [99, 88, 77, 66]\n",
        "print(\"A + B = \", A + B) #will contain all the element of A and B"
      ],
      "metadata": {
        "colab": {
          "base_uri": "https://localhost:8080/"
        },
        "id": "prk1zb48H7pj",
        "outputId": "6278562e-5bbc-406b-acc5-bef1f68e63d5"
      },
      "execution_count": 11,
      "outputs": [
        {
          "output_type": "stream",
          "name": "stdout",
          "text": [
            "A + B =  [9, 8, 7, 6, 99, 88, 77, 66]\n"
          ]
        }
      ]
    },
    {
      "cell_type": "markdown",
      "source": [
        "###**How to sort a list?**"
      ],
      "metadata": {
        "id": "hxZZXwreM_I6"
      }
    },
    {
      "cell_type": "code",
      "source": [
        "print(sorted(A, reverse= False))\n",
        "print(sorted(A, reverse= True))"
      ],
      "metadata": {
        "colab": {
          "base_uri": "https://localhost:8080/"
        },
        "id": "tRkB2eVUH80h",
        "outputId": "69222ec6-b18c-4e03-bc1a-c46dad46545f"
      },
      "execution_count": 12,
      "outputs": [
        {
          "output_type": "stream",
          "name": "stdout",
          "text": [
            "[6, 7, 8, 9]\n",
            "[9, 8, 7, 6]\n"
          ]
        }
      ]
    },
    {
      "cell_type": "markdown",
      "source": [
        "###**Tuple**\n",
        "1. tuple is used with parentheses\n",
        "2. tuple is immutable --> most important"
      ],
      "metadata": {
        "id": "lgTJvv9OM9ft"
      }
    },
    {
      "cell_type": "code",
      "source": [
        "a = ('the', 'fault', 'in', 'our', 'stars')\n",
        "print(type(a))"
      ],
      "metadata": {
        "colab": {
          "base_uri": "https://localhost:8080/"
        },
        "id": "arb-bq11IA6r",
        "outputId": "5a4f7b91-b628-4808-b833-fc7d3d97de3b"
      },
      "execution_count": 13,
      "outputs": [
        {
          "output_type": "stream",
          "name": "stdout",
          "text": [
            "<class 'tuple'>\n"
          ]
        }
      ]
    },
    {
      "cell_type": "markdown",
      "source": [
        "####**Tuple slicing**"
      ],
      "metadata": {
        "id": "CaHhmbNxM8Up"
      }
    },
    {
      "cell_type": "code",
      "source": [
        "print(a[0])\n",
        "print(a[-1])\n",
        "print(a[1:3])"
      ],
      "metadata": {
        "colab": {
          "base_uri": "https://localhost:8080/"
        },
        "id": "1dGd1HSCICUK",
        "outputId": "14f0d46f-aa3f-45b7-e757-289ac45aaab5"
      },
      "execution_count": 14,
      "outputs": [
        {
          "output_type": "stream",
          "name": "stdout",
          "text": [
            "the\n",
            "stars\n",
            "('fault', 'in')\n"
          ]
        }
      ]
    },
    {
      "cell_type": "markdown",
      "source": [
        "###**Immutability**"
      ],
      "metadata": {
        "id": "FjQFU4szM6bm"
      }
    },
    {
      "cell_type": "code",
      "source": [
        "T = (8, 9, 'absolute', [1, 2])\n",
        "# T[0] = 2 #will throw an error"
      ],
      "metadata": {
        "id": "3WFSHF56IG7F"
      },
      "execution_count": 15,
      "outputs": []
    },
    {
      "cell_type": "markdown",
      "source": [
        "####**You cannot change any value inside a tuple and you cannot insert or delete as well**"
      ],
      "metadata": {
        "id": "27vQbpYcM4gb"
      }
    },
    {
      "cell_type": "code",
      "source": [
        "#some functions that can be used with tuple\n",
        "Z = (2, 7, 1)\n",
        "print(len(Z))\n",
        "print(max(Z))\n",
        "print(min(Z))\n",
        "print(sum(Z))\n",
        "print(Z.count(7))"
      ],
      "metadata": {
        "colab": {
          "base_uri": "https://localhost:8080/"
        },
        "id": "IbBtGVMqIJHG",
        "outputId": "4db20543-8fb1-4504-c04e-a2ee2b86c336"
      },
      "execution_count": 16,
      "outputs": [
        {
          "output_type": "stream",
          "name": "stdout",
          "text": [
            "3\n",
            "7\n",
            "1\n",
            "10\n",
            "1\n"
          ]
        }
      ]
    },
    {
      "cell_type": "markdown",
      "source": [
        "**Similarities in List and Tuple**\n",
        "\n",
        "\n",
        "\n",
        "*   The two data structures are both sequence data types that store collections of items.\n",
        "*   Items of any data type can be stored in them.\n",
        "\n",
        "\n",
        "*   Items can be accessed by their index.\n",
        "\n",
        "**Difference between List and Tuple**\n",
        "\n",
        "\n",
        "*   List is mutable, whereas a tuple is immutable. This means that lists can be changed, and tuples cannot be changed.\n",
        "\n",
        "###**Set**\n",
        "\n",
        "\n",
        "1.   It works with a curly brace--> {}\n",
        "2.   One item can appear only once\n",
        "3.   You cannot slice item from set, unlike lists or tuples\n"
      ],
      "metadata": {
        "id": "S_n-QqssIMED"
      }
    },
    {
      "cell_type": "code",
      "source": [
        "A = {12, 13, 14, 12}\n",
        "print(A) \n",
        "print(type(A))\n",
        "print(len(A))\n",
        "\n",
        "# convert to list\n",
        "A_converted = list(A)\n",
        "print(A_converted)\n",
        "\n",
        "A = {1, 3, 5, 7, 9}\n",
        "B = {1, 2, 4, 7, 9}\n",
        "\n",
        "print(A.union(B))\n",
        "print(A.intersection(B))\n",
        "print(A.difference(B))"
      ],
      "metadata": {
        "colab": {
          "base_uri": "https://localhost:8080/"
        },
        "id": "HXS4t9PWJlk0",
        "outputId": "4122f467-038d-4dda-bc58-58556ea9beeb"
      },
      "execution_count": 17,
      "outputs": [
        {
          "output_type": "stream",
          "name": "stdout",
          "text": [
            "{12, 13, 14}\n",
            "<class 'set'>\n",
            "3\n",
            "[12, 13, 14]\n",
            "{1, 2, 3, 4, 5, 7, 9}\n",
            "{1, 9, 7}\n",
            "{3, 5}\n"
          ]
        }
      ]
    },
    {
      "cell_type": "markdown",
      "source": [
        "###Dictionary"
      ],
      "metadata": {
        "id": "LH9hXxPnJr1J"
      }
    },
    {
      "cell_type": "code",
      "source": [
        "phone_contacts = {\"abul\":7754, \"babul\":4584, \"cabul\":8177, \"dabul\":1775}\n",
        "\n",
        "print(phone_contacts)"
      ],
      "metadata": {
        "colab": {
          "base_uri": "https://localhost:8080/"
        },
        "id": "fr1yxKySJwjb",
        "outputId": "dc1f6a99-10bb-4875-b419-de463cdef227"
      },
      "execution_count": 18,
      "outputs": [
        {
          "output_type": "stream",
          "name": "stdout",
          "text": [
            "{'abul': 7754, 'babul': 4584, 'cabul': 8177, 'dabul': 1775}\n"
          ]
        }
      ]
    },
    {
      "cell_type": "code",
      "source": [
        "print(phone_contacts[\"abul\"])\n"
      ],
      "metadata": {
        "colab": {
          "base_uri": "https://localhost:8080/"
        },
        "id": "kC70zSZFdC9-",
        "outputId": "beb189b3-14a7-4594-9b74-d27656fcecbe"
      },
      "execution_count": 19,
      "outputs": [
        {
          "output_type": "stream",
          "name": "stdout",
          "text": [
            "7754\n"
          ]
        }
      ]
    },
    {
      "cell_type": "code",
      "source": [
        "print(phone_contacts[\"babul\"])\n"
      ],
      "metadata": {
        "colab": {
          "base_uri": "https://localhost:8080/"
        },
        "id": "stB32vAzdCzO",
        "outputId": "494dd638-efc0-4a08-c810-d899012f6e1a"
      },
      "execution_count": 20,
      "outputs": [
        {
          "output_type": "stream",
          "name": "stdout",
          "text": [
            "4584\n"
          ]
        }
      ]
    },
    {
      "cell_type": "code",
      "source": [
        "print(phone_contacts[\"cabul\"])\n"
      ],
      "metadata": {
        "colab": {
          "base_uri": "https://localhost:8080/"
        },
        "id": "L1_ydmVZdCoT",
        "outputId": "a796952e-fd2e-4543-a46b-a808e027d71f"
      },
      "execution_count": 21,
      "outputs": [
        {
          "output_type": "stream",
          "name": "stdout",
          "text": [
            "8177\n"
          ]
        }
      ]
    },
    {
      "cell_type": "code",
      "source": [
        "print(phone_contacts[\"dabul\"])\n",
        "\n"
      ],
      "metadata": {
        "colab": {
          "base_uri": "https://localhost:8080/"
        },
        "id": "OXy_-eIedCdY",
        "outputId": "63e16ec0-efb0-4e13-e829-01e6eaa1c861"
      },
      "execution_count": 22,
      "outputs": [
        {
          "output_type": "stream",
          "name": "stdout",
          "text": [
            "1775\n"
          ]
        }
      ]
    },
    {
      "cell_type": "code",
      "source": [
        "print(phone_contacts.keys())\n"
      ],
      "metadata": {
        "colab": {
          "base_uri": "https://localhost:8080/"
        },
        "id": "2L320RN1dCR9",
        "outputId": "2be259cb-94b3-4e9f-ff57-64f8c801ffe2"
      },
      "execution_count": 23,
      "outputs": [
        {
          "output_type": "stream",
          "name": "stdout",
          "text": [
            "dict_keys(['abul', 'babul', 'cabul', 'dabul'])\n"
          ]
        }
      ]
    },
    {
      "cell_type": "code",
      "source": [
        "print(phone_contacts.values())\n",
        "print(phone_contacts.items())"
      ],
      "metadata": {
        "colab": {
          "base_uri": "https://localhost:8080/"
        },
        "id": "V1T8FZY3dTyl",
        "outputId": "12b8db37-901e-4302-d898-109cabd39ce3"
      },
      "execution_count": 24,
      "outputs": [
        {
          "output_type": "stream",
          "name": "stdout",
          "text": [
            "dict_values([7754, 4584, 8177, 1775])\n",
            "dict_items([('abul', 7754), ('babul', 4584), ('cabul', 8177), ('dabul', 1775)])\n"
          ]
        }
      ]
    },
    {
      "cell_type": "code",
      "source": [],
      "metadata": {
        "id": "OmhivK-UdCFZ"
      },
      "execution_count": 24,
      "outputs": []
    },
    {
      "cell_type": "code",
      "source": [
        "# adding a new phone number of the existing contact\n",
        "phone_contacts[\"dabul\"] = [1775,7165]\n",
        "print(phone_contacts)"
      ],
      "metadata": {
        "colab": {
          "base_uri": "https://localhost:8080/"
        },
        "id": "A8cz4XDtJ05v",
        "outputId": "c83a7911-e85e-433d-d291-2b81fffe2ba0"
      },
      "execution_count": 25,
      "outputs": [
        {
          "output_type": "stream",
          "name": "stdout",
          "text": [
            "{'abul': 7754, 'babul': 4584, 'cabul': 8177, 'dabul': [1775, 7165]}\n"
          ]
        }
      ]
    },
    {
      "cell_type": "code",
      "source": [
        "# adding a new contact\n",
        "phone_contacts[\"fabul\"] = 6564\n",
        "print(phone_contacts)"
      ],
      "metadata": {
        "colab": {
          "base_uri": "https://localhost:8080/"
        },
        "id": "JssRDSJqJ4Ug",
        "outputId": "5abf76c7-d579-49c9-aed0-122daf3be65f"
      },
      "execution_count": 26,
      "outputs": [
        {
          "output_type": "stream",
          "name": "stdout",
          "text": [
            "{'abul': 7754, 'babul': 4584, 'cabul': 8177, 'dabul': [1775, 7165], 'fabul': 6564}\n"
          ]
        }
      ]
    },
    {
      "cell_type": "code",
      "source": [
        "# updating a dictionary\n",
        "new_dict = {\"gabul\":6461}\n",
        "phone_contacts.update(new_dict)\n",
        "print(phone_contacts)"
      ],
      "metadata": {
        "colab": {
          "base_uri": "https://localhost:8080/"
        },
        "id": "V6tPEqgNJ7V4",
        "outputId": "2cac0bf6-c3fa-4b70-b82c-92f6218759cf"
      },
      "execution_count": 27,
      "outputs": [
        {
          "output_type": "stream",
          "name": "stdout",
          "text": [
            "{'abul': 7754, 'babul': 4584, 'cabul': 8177, 'dabul': [1775, 7165], 'fabul': 6564, 'gabul': 6461}\n"
          ]
        }
      ]
    },
    {
      "cell_type": "code",
      "source": [
        "# removing a contact from the phonebook\n",
        "del phone_contacts[\"gabul\"]\n",
        "print(phone_contacts)"
      ],
      "metadata": {
        "colab": {
          "base_uri": "https://localhost:8080/"
        },
        "id": "MjirbdpLJ-yu",
        "outputId": "c44096a8-ee08-4822-a8c7-e42df04febf8"
      },
      "execution_count": 28,
      "outputs": [
        {
          "output_type": "stream",
          "name": "stdout",
          "text": [
            "{'abul': 7754, 'babul': 4584, 'cabul': 8177, 'dabul': [1775, 7165], 'fabul': 6564}\n"
          ]
        }
      ]
    }
  ]
}
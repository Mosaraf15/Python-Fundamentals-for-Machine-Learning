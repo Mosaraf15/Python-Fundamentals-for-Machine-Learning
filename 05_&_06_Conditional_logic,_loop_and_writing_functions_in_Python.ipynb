{
  "nbformat": 4,
  "nbformat_minor": 0,
  "metadata": {
    "colab": {
      "name": "05 & 06_Conditional logic, loop and writing functions in Python.ipynb",
      "provenance": [],
      "authorship_tag": "ABX9TyNUyW6FG34mg2LAslVfCql6",
      "include_colab_link": true
    },
    "kernelspec": {
      "name": "python3",
      "display_name": "Python 3"
    },
    "language_info": {
      "name": "python"
    }
  },
  "cells": [
    {
      "cell_type": "markdown",
      "metadata": {
        "id": "view-in-github",
        "colab_type": "text"
      },
      "source": [
        "<a href=\"https://colab.research.google.com/github/Mosaraf15/Python-Fundamentals-for-Machine-Learning/blob/main/05_%26_06_Conditional_logic%2C_loop_and_writing_functions_in_Python.ipynb\" target=\"_parent\"><img src=\"https://colab.research.google.com/assets/colab-badge.svg\" alt=\"Open In Colab\"/></a>"
      ]
    },
    {
      "cell_type": "markdown",
      "source": [
        "# Conditional logic, loop and writing functions in Python\n",
        "**Md Mosaraf Hossain Khan**,\n",
        "\n",
        "Chittagang, Bangladesh\n",
        "\n",
        "#### Objectives:\n",
        "1. How to write if-else, while and for loop in Python\n",
        "2. Writing functions in Python\n",
        "3. LeetCode problems\n",
        "\n",
        "#### **References:**\n",
        "\n",
        "Instructor:\n",
        "#####**Md Shahidullah Kawsar**,\n",
        "  Data Scientist, IDARE, Houston, TX, USA\n",
        "\n",
        "1. https://github.com/SKawsar/Python_Fundamentals_s2/blob/main/Lecture_5.ipynb\n",
        "2. https://leetcode.com/problems/defanging-an-ip-address/\n",
        "3. https://leetcode.com/problems/goal-parser-interpretation/\n",
        "4. https://leetcode.com/problems/check-if-two-string-arrays-are-equivalent/"
      ],
      "metadata": {
        "id": "4u80iMaNLmgE"
      }
    },
    {
      "cell_type": "markdown",
      "source": [
        "**Example: for loop**"
      ],
      "metadata": {
        "id": "l298pc0Waa-k"
      }
    },
    {
      "cell_type": "code",
      "source": [
        "nums = [1,2,3,4,5,11,12,13,14,15] #input\n",
        "\n",
        "square_list = []\n",
        "\n",
        "for element in nums:\n",
        "    square_value = element*element\n",
        "    square_list.append(square_value)\n",
        "    print(\"element = \", element, \"square_value = \", square_value, square_list)\n",
        "\n",
        "print(square_list)\n",
        "    "
      ],
      "metadata": {
        "id": "U1fit3hXLrrx"
      },
      "execution_count": null,
      "outputs": []
    },
    {
      "cell_type": "code",
      "source": [
        "print(type(square_list))"
      ],
      "metadata": {
        "id": "iThOOj6IbGua"
      },
      "execution_count": null,
      "outputs": []
    },
    {
      "cell_type": "markdown",
      "source": [
        "**Writing Functions**"
      ],
      "metadata": {
        "id": "Hr5oAtYpai8O"
      }
    },
    {
      "cell_type": "code",
      "source": [
        "def multiply_numbers(a, b):\n",
        "    \n",
        "    total_sum = a*b\n",
        "    \n",
        "    return total_sum"
      ],
      "metadata": {
        "id": "pabcljqBL90P"
      },
      "execution_count": null,
      "outputs": []
    },
    {
      "cell_type": "code",
      "source": [
        "multiply_numbers(1,2)"
      ],
      "metadata": {
        "id": "EYqZJeXCMMQ6"
      },
      "execution_count": null,
      "outputs": []
    },
    {
      "cell_type": "code",
      "source": [
        "multiply_numbers(100,250)"
      ],
      "metadata": {
        "id": "Jfh_Z0CQMRHi"
      },
      "execution_count": null,
      "outputs": []
    },
    {
      "cell_type": "code",
      "source": [
        "multiply_numbers(1.2,2.3)"
      ],
      "metadata": {
        "id": "f2QrKv2NMREA"
      },
      "execution_count": null,
      "outputs": []
    },
    {
      "cell_type": "code",
      "source": [
        "def square_elements(input_list):\n",
        "    \n",
        "    square_list = []\n",
        "\n",
        "    for element in input_list:\n",
        "        square_value = element*element\n",
        "        square_list.append(square_value)\n",
        "        print(\"element = \", element, \"square_value = \", square_value, square_list)\n",
        "        \n",
        "    return square_list"
      ],
      "metadata": {
        "id": "0cYTKEQfMRBl"
      },
      "execution_count": null,
      "outputs": []
    },
    {
      "cell_type": "code",
      "source": [
        "square_elements([1,2,3,4,5])"
      ],
      "metadata": {
        "id": "QtlCRV9VMQ_-"
      },
      "execution_count": null,
      "outputs": []
    },
    {
      "cell_type": "code",
      "source": [
        "\n",
        "square_elements([-1,2,4,0,100])"
      ],
      "metadata": {
        "id": "3SzZ7XuZMQ9b"
      },
      "execution_count": null,
      "outputs": []
    },
    {
      "cell_type": "markdown",
      "source": [
        "**Even or odd**"
      ],
      "metadata": {
        "id": "nOkquiz_aoz2"
      }
    },
    {
      "cell_type": "code",
      "source": [
        "for i in range(0,10):\n",
        "    if i%2 == 0:\n",
        "        print(i, \"even = True\")\n",
        "    else:\n",
        "        print(i, \"even = False\")"
      ],
      "metadata": {
        "id": "uBxTyN3nMQ7F"
      },
      "execution_count": null,
      "outputs": []
    },
    {
      "cell_type": "markdown",
      "source": [
        "**Example of while condition**"
      ],
      "metadata": {
        "id": "eU_q-F1LathG"
      }
    },
    {
      "cell_type": "code",
      "source": [
        "count = 0\n",
        "while count < 3:   \n",
        "    print(count)\n",
        "    count = count + 1\n",
        "    print(\"Hello Geek\")"
      ],
      "metadata": {
        "id": "0mIeaj1GMQ46"
      },
      "execution_count": null,
      "outputs": []
    },
    {
      "cell_type": "markdown",
      "source": [
        "**example: if-else**"
      ],
      "metadata": {
        "id": "eCydtLAEayh0"
      }
    },
    {
      "cell_type": "code",
      "source": [
        "for i in range(0,10,1):\n",
        "    \n",
        "    # 0,2,4,6,8\n",
        "    if i%2 == 0:\n",
        "        print(i, \"divisible by 2\")\n",
        "    else:\n",
        "        print(i, \"not divisible 2\")\n",
        "        \n",
        "    # 3,6,9\n",
        "    if i%3 == 0:\n",
        "        print(i, \"divisible by 3\")\n",
        "    else:\n",
        "        print(i, \"not divisible 3\")\n",
        "        \n",
        "    # 4, 8\n",
        "    if i%4 == 0:\n",
        "        print(i, \"divisible by 4\")\n",
        "    else:\n",
        "        print(i, \"not divisible 4\")\n",
        "        \n",
        "    if i%2 == 0 and i%4 == 0:\n",
        "        print(i, \"divisible by 2 and 4\")\n",
        "    else:\n",
        "        print(i, \"not divisible 2 and 4\")"
      ],
      "metadata": {
        "id": "3VxCcnt9MQ2e"
      },
      "execution_count": null,
      "outputs": []
    },
    {
      "cell_type": "markdown",
      "source": [
        "**Example of cumulative sum using for loop**"
      ],
      "metadata": {
        "id": "0lnnSOeSa3J7"
      }
    },
    {
      "cell_type": "code",
      "source": [
        "nums = [1,2,3,4,5]\n",
        "sum_list = []\n",
        "\n",
        "for i in range(len(nums)):\n",
        "    print(\"i = \", i,  \"i+1 = \", i+1, \"num = \", nums[:i+1], \"sum = \", sum(nums[:i+1]))\n",
        "    \n",
        "    sum_list.append(sum(nums[:i+1]))\n",
        "\n",
        "print(sum_list)"
      ],
      "metadata": {
        "id": "qNWsyJokMQw2"
      },
      "execution_count": null,
      "outputs": []
    },
    {
      "cell_type": "markdown",
      "source": [
        "######**LeetCode Problem 01: Defanging an IP Address**\n",
        "Given a valid (IPv4) IP address, return a defanged version of that IP address.\n",
        "\n",
        "A defanged IP address replaces every period \".\" with \"[.]\"\n",
        "\n",
        "######**Example 1:**\n",
        "Input: address = \"1.1.1.1\"\n",
        "Output: \"1[.]1[.]1[.]1\"\n",
        "\n",
        "######**Example 2:**\n",
        "Input: address = \"255.100.50.0\"\n",
        "Output: \"255[.]100[.]50[.]0\""
      ],
      "metadata": {
        "id": "hVF0uFAjMpkx"
      }
    },
    {
      "cell_type": "code",
      "source": [
        "def defangIPaddr(address):\n",
        "    \"\"\"\n",
        "    :type address: str\n",
        "    :rtype: str\n",
        "    \"\"\"\n",
        "    return address.replace('.', '[.]')\n",
        "\n",
        "example_1 = defangIPaddr(\"1.1.1.1\")\n",
        "print(example_1)\n",
        "\n",
        "example_2 = defangIPaddr(\"255.100.50.0\")\n",
        "print(example_2)"
      ],
      "metadata": {
        "id": "kYc9iAbFMQsQ"
      },
      "execution_count": null,
      "outputs": []
    },
    {
      "cell_type": "markdown",
      "source": [
        "######**LeetCode Problem 02: Goal Parser Interpretation**\n",
        "You own a Goal Parser that can interpret a string command. The command consists of an alphabet of \"G\", \"()\" and/or \"(al)\" in some order. The Goal Parser will interpret \"G\" as the string \"G\", \"()\" as the string \"o\", and \"(al)\" as the string \"al\". The interpreted strings are then concatenated in the original order.\n",
        "\n",
        "Given the string command, return the Goal Parser's interpretation of command.\n",
        "\n",
        "######**Example 1:**\n",
        "Input: command = \"G()(al)\"\n",
        "Output: \"Goal\" Explanation: The Goal Parser interprets the command as follows: G -> G () -> o (al) -> al The final concatenated result is \"Goal\".\n",
        "\n",
        "######**Example 2:**\n",
        "Input: command = \"G()()()()(al)\"\n",
        "Output: \"Gooooal\"\n",
        "\n",
        "######**Example 3:**\n",
        "Input: command = \"(al)G(al)()()G\"\n",
        "Output: \"alGalooG\""
      ],
      "metadata": {
        "id": "hLmwm2U6NdOk"
      }
    },
    {
      "cell_type": "code",
      "source": [
        "def interpret(command):\n",
        "    \"\"\"\n",
        "    :type command: str\n",
        "    :rtype: str\n",
        "    \"\"\"\n",
        "    command = command.replace('()', 'o')\n",
        "    command = command.replace('(al)', 'al')\n",
        "\n",
        "    return command\n",
        "\n",
        "example_1 = interpret(\"G()(al)\")\n",
        "print(example_1)\n",
        "\n",
        "example_2 = interpret(\"G()()()()(al)\")\n",
        "print(example_2)\n",
        "\n",
        "example_3 = interpret(\"(al)G(al)()()G\")\n",
        "print(example_3)"
      ],
      "metadata": {
        "id": "vZ7hwlfIMQlu"
      },
      "execution_count": null,
      "outputs": []
    },
    {
      "cell_type": "markdown",
      "source": [
        "######**LeetCode Problem 03: Check If Two String Arrays are Equivalent**\n",
        "Given two string arrays word1 and word2, return true if the two arrays represent the same string, and false otherwise.\n",
        "\n",
        "A string is represented by an array if the array elements concatenated in order forms the string.\n",
        "\n",
        "######**Example 1:**\n",
        "Input: word1 = [\"ab\", \"c\"], word2 = [\"a\", \"bc\"]\n",
        "Output: true\n",
        "Explanation:\n",
        "word1 represents string \"ab\" + \"c\" -> \"abc\"\n",
        "word2 represents string \"a\" + \"bc\" -> \"abc\"\n",
        "The strings are the same, so return true.\n",
        "\n",
        "######**Example 2:**\n",
        "Input: word1 = [\"a\", \"cb\"], word2 = [\"ab\", \"c\"]\n",
        "Output: false\n",
        "\n",
        "######**Example 3:**\n",
        "Input: word1 = [\"abc\", \"d\", \"defg\"], word2 = [\"abcddefg\"]\n",
        "Output: true"
      ],
      "metadata": {
        "id": "hzmWossfN24M"
      }
    },
    {
      "cell_type": "code",
      "source": [
        "def arrayStringsAreEqual(word1, word2):\n",
        "    \n",
        "#     print(\"\".join(word1))\n",
        "#     print(\"\".join(word2))\n",
        "\n",
        "    return \"\".join(word1) == \"\".join(word2)\n",
        "\n",
        "example_1 = arrayStringsAreEqual([\"ab\", \"c\"], [\"a\", \"bc\"])\n",
        "print(example_1)\n",
        "\n",
        "example_2 = arrayStringsAreEqual([\"a\", \"cb\"], [\"ab\", \"c\"])\n",
        "print(example_2)\n",
        "\n",
        "example_3 = arrayStringsAreEqual( [\"abc\", \"d\", \"defg\"], [\"abcddefg\"])\n",
        "print(example_3)"
      ],
      "metadata": {
        "id": "wQJAP1SWMQbB"
      },
      "execution_count": null,
      "outputs": []
    },
    {
      "cell_type": "code",
      "source": [],
      "metadata": {
        "id": "mXRPCyQbMQKZ"
      },
      "execution_count": null,
      "outputs": []
    },
    {
      "cell_type": "code",
      "source": [],
      "metadata": {
        "id": "GR090wS4MP24"
      },
      "execution_count": null,
      "outputs": []
    },
    {
      "cell_type": "markdown",
      "source": [
        "####**HW2:**\n",
        "\n",
        "1. https://leetcode.com/problems/maximum-product-of-three-numbers/\n",
        "2. https://leetcode.com/problems/richest-customer-wealth/\n",
        "3. https://leetcode.com/problems/shuffle-the-array/\n",
        "4. https://leetcode.com/problems/valid-perfect-square/"
      ],
      "metadata": {
        "id": "8x9vNUd6OoE7"
      }
    },
    {
      "cell_type": "code",
      "source": [],
      "metadata": {
        "id": "50zrzmVlO1QL"
      },
      "execution_count": null,
      "outputs": []
    }
  ]
}
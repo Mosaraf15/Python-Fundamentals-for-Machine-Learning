{
  "nbformat": 4,
  "nbformat_minor": 0,
  "metadata": {
    "colab": {
      "name": "03-Python Data Types and String Manipulation.ipynb",
      "provenance": [],
      "authorship_tag": "ABX9TyMvz233T3G1OzjP5c/Wi8cE",
      "include_colab_link": true
    },
    "kernelspec": {
      "name": "python3",
      "display_name": "Python 3"
    },
    "language_info": {
      "name": "python"
    }
  },
  "cells": [
    {
      "cell_type": "markdown",
      "metadata": {
        "id": "view-in-github",
        "colab_type": "text"
      },
      "source": [
        "<a href=\"https://colab.research.google.com/github/Mosaraf15/Python-Fundamentals-for-Machine-Learning/blob/main/03_Python_Data_Types_and_String_Manipulation.ipynb\" target=\"_parent\"><img src=\"https://colab.research.google.com/assets/colab-badge.svg\" alt=\"Open In Colab\"/></a>"
      ]
    },
    {
      "cell_type": "markdown",
      "source": [
        "# Python Data Types and String Manipulation\n",
        "**Md Mosaraf Hossain Khan**,\n",
        "\n",
        "Chittagang, Bangladesh\n",
        "\n",
        "#### Objectives:\n",
        "1. Learn about Python data types, Mathematical Operations, Comparison Operators, Logical Operators, and Membership Operators\n",
        "2. Learn string manipulation\n",
        "\n",
        "#### References:\n",
        "\n",
        "Instructor:\n",
        "**Md Shahidullah Kawsar**,\n",
        "Data Scientist, IDARE, Houston, TX, USA\n",
        "\n",
        "1. Python - Basic Operators: https://github.com/SKawsar/Python_Fundamentals_s2\n",
        "\n"
      ],
      "metadata": {
        "id": "80sjx6dagizT"
      }
    },
    {
      "cell_type": "markdown",
      "source": [
        "**str** : string, text\n",
        "<br>**int** : inetger numbers\n",
        "<br>**float** : real numbers, decimal values\n",
        "<br>**bool** : True, False"
      ],
      "metadata": {
        "id": "pbtfPN7o3NxN"
      }
    },
    {
      "cell_type": "code",
      "source": [
        "name = \"Lionel Andres Messi\"\n",
        "birth_year = 1987\n",
        "height = 5.6\n",
        "is_he_a_goat = True\n",
        "\n",
        "print(\"Player name : \", name)\n",
        "print(type(name))\n",
        "\n",
        "print(\"Birth Year : \", birth_year)\n",
        "print(type(birth_year))\n",
        "\n",
        "print(\"Height : \", height)\n",
        "print(type(height))\n",
        "\n",
        "print(\"Is he the greatest of all time? \", is_he_a_goat)\n",
        "print(type(is_he_a_goat))"
      ],
      "metadata": {
        "id": "tYkP-3Ak3SVx",
        "outputId": "424065ef-ec5e-40ce-c7b6-02d35d4c8bae",
        "colab": {
          "base_uri": "https://localhost:8080/"
        }
      },
      "execution_count": null,
      "outputs": [
        {
          "output_type": "stream",
          "name": "stdout",
          "text": [
            "Player name :  Lionel Andres Messi\n",
            "<class 'str'>\n",
            "Birth Year :  1987\n",
            "<class 'int'>\n",
            "Height :  5.6\n",
            "<class 'float'>\n",
            "Is he the greatest of all time?  True\n",
            "<class 'bool'>\n"
          ]
        }
      ]
    },
    {
      "cell_type": "markdown",
      "source": [
        "#### Mathematical Operations"
      ],
      "metadata": {
        "id": "VXFfTU4z3pIV"
      }
    },
    {
      "cell_type": "code",
      "source": [
        "a = 5 #integer\n",
        "b = 9 #integer \n",
        "\n",
        "# Addition\n",
        "print(\"a+b = \", a+b) \n",
        "\n",
        "# Multiplication\n",
        "print(\"a*b = \", a*b) \n",
        "\n",
        "# Subtraction\n",
        "print(\"a-b = \", a-b) \n",
        "\n",
        "# Modulus: Divides left hand operand by right hand operand and returns remainder\n",
        "print(\"a%b = \", a%b) \n",
        "\n",
        "# Division\n",
        "print(\"a/b = \", a/b)\n",
        "\n",
        "# Floor Division - The division of operands \n",
        "# where the result is the quotient in which \n",
        "# the digits after the decimal point are removed. \n",
        "# But if one of the operands is negative, the result is floored, \n",
        "# i.e., rounded away from zero (towards negative infinity)\n",
        "print(\"a//b = \", a//b) \n",
        "\n",
        "# Exponent: Performs exponential (power) calculation on operators\n",
        "print(\"a**b = \", a**b) "
      ],
      "metadata": {
        "id": "sHlbJ7zq3rPX",
        "outputId": "ec202861-d48e-4ad8-c09e-0e6dadeda26e",
        "colab": {
          "base_uri": "https://localhost:8080/"
        }
      },
      "execution_count": null,
      "outputs": [
        {
          "output_type": "stream",
          "name": "stdout",
          "text": [
            "a+b =  14\n",
            "a*b =  45\n",
            "a-b =  -4\n",
            "a%b =  5\n",
            "a/b =  0.5555555555555556\n",
            "a//b =  0\n",
            "a**b =  1953125\n"
          ]
        }
      ]
    },
    {
      "cell_type": "code",
      "source": [
        "b = 4\n",
        "c = 6\n",
        "d = 9\n",
        "\n",
        "print(b*c-d)\n",
        "print(b-c*d)\n",
        "# definitely multiplication will occur first. To avoid confusion, please use brackets such as b - (c*d). Make it readable."
      ],
      "metadata": {
        "id": "nfskvY7vRGH6",
        "outputId": "3d55171a-3695-475d-f520-dcd7eaae05d7",
        "colab": {
          "base_uri": "https://localhost:8080/"
        }
      },
      "execution_count": null,
      "outputs": [
        {
          "output_type": "stream",
          "name": "stdout",
          "text": [
            "15\n",
            "-50\n"
          ]
        }
      ]
    },
    {
      "cell_type": "markdown",
      "source": [
        "#### Comparison Operators"
      ],
      "metadata": {
        "id": "I8EvpzEezonP"
      }
    },
    {
      "cell_type": "code",
      "source": [
        "a = -1\n",
        "b = -0.9\n",
        "\n",
        "print(\"a == b : \", a == b)\n",
        "print(\"a != b : \", a != b)\n",
        "print(\"a >= b : \", a >= b)\n",
        "print(\"a <= b : \", a <= b)\n",
        "print(\"a > b  : \", a > b)\n",
        "print(\"a < b  : \", a < b)"
      ],
      "metadata": {
        "id": "DCKnf-s43vUe",
        "outputId": "66d022a9-a80d-46cb-a65b-3cdde10ea6cd",
        "colab": {
          "base_uri": "https://localhost:8080/"
        }
      },
      "execution_count": null,
      "outputs": [
        {
          "output_type": "stream",
          "name": "stdout",
          "text": [
            "a == b :  False\n",
            "a != b :  True\n",
            "a >= b :  False\n",
            "a <= b :  True\n",
            "a > b  :  False\n",
            "a < b  :  True\n"
          ]
        }
      ]
    },
    {
      "cell_type": "markdown",
      "source": [
        "####Logical operators"
      ],
      "metadata": {
        "id": "bjto3IxBz1Di"
      }
    },
    {
      "cell_type": "code",
      "source": [
        "# and, or\n",
        "\n",
        "# ang logic\n",
        "print(True and True) # 1 and 1\n",
        "print(True and False) # 1 and 0\n",
        "print(False and True) # 0 and 1\n",
        "print(False and False) # 0 and 0\n",
        "\n",
        "# or logic\n",
        "print(True or True) # 1 or 1\n",
        "print(True or False) # 1 or 0\n",
        "print(False or True) # 0 or 1\n",
        "print(False or False) # 0 or 0"
      ],
      "metadata": {
        "id": "2E0-Cuih31yh",
        "outputId": "945e4fb4-a771-4dad-b7fa-99b11dc43453",
        "colab": {
          "base_uri": "https://localhost:8080/"
        }
      },
      "execution_count": null,
      "outputs": [
        {
          "output_type": "stream",
          "name": "stdout",
          "text": [
            "True\n",
            "False\n",
            "False\n",
            "False\n",
            "True\n",
            "True\n",
            "True\n",
            "False\n"
          ]
        }
      ]
    },
    {
      "cell_type": "code",
      "source": [
        "a = 1\n",
        "b = 1\n",
        "c = 2\n",
        "d = 2\n",
        "\n",
        "print(\"a == b and c == d : \", a == b and c == d)\n",
        "print(\"a == b or c == d : \", a == b or c == d)\n",
        "print(\"not c == d : \", not c == d)"
      ],
      "metadata": {
        "id": "peZcS5VHMTP3",
        "outputId": "c3ca586a-0634-4c0e-9862-47505dbbefd5",
        "colab": {
          "base_uri": "https://localhost:8080/"
        }
      },
      "execution_count": null,
      "outputs": [
        {
          "output_type": "stream",
          "name": "stdout",
          "text": [
            "a == b and c == d :  True\n",
            "a == b or c == d :  True\n",
            "not c == d :  False\n"
          ]
        }
      ]
    },
    {
      "cell_type": "markdown",
      "source": [
        "####Membership operators"
      ],
      "metadata": {
        "id": "nbosYIhO0Bfx"
      }
    },
    {
      "cell_type": "code",
      "source": [
        "a = \"abul\"\n",
        "b = \"babul\"\n",
        "\n",
        "print(\"a in b : \", a in b)\n",
        "print(\"b not in a : \", b not in a)"
      ],
      "metadata": {
        "id": "Qnc3tGJQ36S1",
        "outputId": "2f9a3624-a9a0-47df-fa21-c6c1b71a428b",
        "colab": {
          "base_uri": "https://localhost:8080/"
        }
      },
      "execution_count": null,
      "outputs": [
        {
          "output_type": "stream",
          "name": "stdout",
          "text": [
            "a in b :  True\n",
            "b not in a :  True\n"
          ]
        }
      ]
    },
    {
      "cell_type": "markdown",
      "source": [
        "#### String Manipulation\n",
        "- How to capitalize the first character of a string?"
      ],
      "metadata": {
        "id": "ldDYaTDR0VLK"
      }
    },
    {
      "cell_type": "code",
      "source": [
        "name = \"ronaldo\"\n",
        "updated_name = name.capitalize()\n",
        "\n",
        "print(updated_name)"
      ],
      "metadata": {
        "id": "N3JF3EVHzxqz",
        "outputId": "a0797db1-8d53-44b1-cd5e-66a1c84de98f",
        "colab": {
          "base_uri": "https://localhost:8080/"
        }
      },
      "execution_count": null,
      "outputs": [
        {
          "output_type": "stream",
          "name": "stdout",
          "text": [
            "Ronaldo\n"
          ]
        }
      ]
    },
    {
      "cell_type": "markdown",
      "source": [
        "- How to find the frequency of the substring in a string?"
      ],
      "metadata": {
        "id": "EKJgdvaF0iRv"
      }
    },
    {
      "cell_type": "code",
      "source": [
        "name_count = name.count(\"o\")\n",
        "print(name_count)"
      ],
      "metadata": {
        "id": "t0wn6ZNRzxxP",
        "outputId": "74a23cd1-9be4-47bf-a1e4-0bd4ae901e81",
        "colab": {
          "base_uri": "https://localhost:8080/"
        }
      },
      "execution_count": null,
      "outputs": [
        {
          "output_type": "stream",
          "name": "stdout",
          "text": [
            "2\n"
          ]
        }
      ]
    },
    {
      "cell_type": "markdown",
      "source": [
        "\n",
        "- How to find if a string starts or ends with a specific substring?"
      ],
      "metadata": {
        "id": "3HlheuwG0tiE"
      }
    },
    {
      "cell_type": "code",
      "source": [
        "name_startswith = name.startswith(\"o\")\n",
        "print(name_startswith)\n",
        "\n",
        "name_endswith = name.endswith(\"o\")\n",
        "print(name_endswith)"
      ],
      "metadata": {
        "id": "_WnxOORvzyKE",
        "outputId": "4589a07b-80f0-47cd-d522-88c39ad0f490",
        "colab": {
          "base_uri": "https://localhost:8080/"
        }
      },
      "execution_count": null,
      "outputs": [
        {
          "output_type": "stream",
          "name": "stdout",
          "text": [
            "False\n",
            "True\n"
          ]
        }
      ]
    },
    {
      "cell_type": "markdown",
      "source": [
        "#### String slicing\n",
        "\n",
        "###### **python is a 0-indexed based programming language**\n",
        "###### ****the index of the last character = len(var) -1****\n",
        "###### **the last index in a range is always exclusive**"
      ],
      "metadata": {
        "id": "6MqNwyOq08-I"
      }
    },
    {
      "cell_type": "code",
      "source": [
        "var = \"I love Bangladesh\"\n",
        "\n",
        "print(\"length of var = \", len(var))\n",
        "\n",
        "print(var)\n",
        "print(var[0])\n",
        "print(var[7])\n",
        "print(var[16])\n",
        "print(var[-1])\n",
        "print(var[-5])\n",
        "\n",
        "print(var[2:6])\n",
        "print(var[2:])\n",
        "print(var[7:17])\n",
        "print(var[7:])\n",
        "\n",
        "print(var[0:6])\n",
        "print(var[:6])\n",
        "\n",
        "print(var[-10:])"
      ],
      "metadata": {
        "id": "FQMGLSnQ0et8",
        "outputId": "b1919774-a0fa-4ef6-d37f-7a5221f4e41a",
        "colab": {
          "base_uri": "https://localhost:8080/"
        }
      },
      "execution_count": null,
      "outputs": [
        {
          "output_type": "stream",
          "name": "stdout",
          "text": [
            "length of var =  17\n",
            "I love Bangladesh\n",
            "I\n",
            "B\n",
            "h\n",
            "h\n",
            "a\n",
            "love\n",
            "love Bangladesh\n",
            "Bangladesh\n",
            "Bangladesh\n",
            "I love\n",
            "I love\n",
            "Bangladesh\n"
          ]
        }
      ]
    },
    {
      "cell_type": "markdown",
      "source": [
        ""
      ],
      "metadata": {
        "id": "xmJ-K7cA1CY8"
      }
    },
    {
      "cell_type": "markdown",
      "source": [
        "\n",
        "- How to find the index of a specific character in a string?"
      ],
      "metadata": {
        "id": "N1ko6f9u0qXA"
      }
    },
    {
      "cell_type": "code",
      "source": [
        "text = \"Happy New Year\"\n",
        "\n",
        "print(text.find(\"p\"))\n",
        "print(text.index(\"a\"))"
      ],
      "metadata": {
        "id": "F2jQZws9zyNF",
        "outputId": "1bda1f4d-c2a9-4287-f127-78d409a989e7",
        "colab": {
          "base_uri": "https://localhost:8080/"
        }
      },
      "execution_count": null,
      "outputs": [
        {
          "output_type": "stream",
          "name": "stdout",
          "text": [
            "2\n",
            "1\n"
          ]
        }
      ]
    },
    {
      "cell_type": "markdown",
      "source": [
        "\n",
        "- How to convert a string into lower case and upper case characters?\n"
      ],
      "metadata": {
        "id": "VWIn_WJp0s0R"
      }
    },
    {
      "cell_type": "code",
      "source": [
        "name = \"ShakibAlHasan\"\n",
        "\n",
        "print(name.lower())\n",
        "print(name.upper())"
      ],
      "metadata": {
        "id": "5GY9xut-zyRD",
        "outputId": "7e7d48a2-acab-402a-89fa-8bf39ef769c4",
        "colab": {
          "base_uri": "https://localhost:8080/"
        }
      },
      "execution_count": null,
      "outputs": [
        {
          "output_type": "stream",
          "name": "stdout",
          "text": [
            "shakibalhasan\n",
            "SHAKIBALHASAN\n"
          ]
        }
      ]
    },
    {
      "cell_type": "code",
      "source": [
        "print(\"electrical engineering\" == \"Electrical Engineering\".lower())\n",
        "print(\"electrical engineering \".rstrip() == \"Electrical Engineering\".lower())\n",
        "print(\"   electrical engineering\".lstrip() == \"Electrical Engineering\".lower())"
      ],
      "metadata": {
        "id": "lFydnuj-5fcE",
        "outputId": "26c32566-4beb-4d05-b49e-83a86bff20da",
        "colab": {
          "base_uri": "https://localhost:8080/"
        }
      },
      "execution_count": null,
      "outputs": [
        {
          "output_type": "stream",
          "name": "stdout",
          "text": [
            "True\n",
            "True\n",
            "True\n"
          ]
        }
      ]
    },
    {
      "cell_type": "markdown",
      "source": [
        "\n",
        "- How to replace a substring inside a string?\n"
      ],
      "metadata": {
        "id": "2nv15dSl0z1B"
      }
    },
    {
      "cell_type": "code",
      "source": [
        "text = \"Electrical Enginering\"\n",
        "\n",
        "print(text.replace(\"Enginering\", \"Engineering\"))"
      ],
      "metadata": {
        "id": "685H-nkkzyV8",
        "outputId": "7c77fd89-49df-4b0e-bcb5-ccd6ac226d5f",
        "colab": {
          "base_uri": "https://localhost:8080/"
        }
      },
      "execution_count": null,
      "outputs": [
        {
          "output_type": "stream",
          "name": "stdout",
          "text": [
            "Electrical Engineering\n"
          ]
        }
      ]
    },
    {
      "cell_type": "code",
      "source": [
        "text = \"electrical enginering\"\n",
        "print(text.capitalize())"
      ],
      "metadata": {
        "id": "KSYefQlK8l6L",
        "outputId": "b7a5bc14-7d79-49ea-ddf2-844195cff28b",
        "colab": {
          "base_uri": "https://localhost:8080/"
        }
      },
      "execution_count": null,
      "outputs": [
        {
          "output_type": "stream",
          "name": "stdout",
          "text": [
            "Electrical enginering\n"
          ]
        }
      ]
    },
    {
      "cell_type": "markdown",
      "source": [
        "- How to find the presence of an alphanumeric character, alphabet or digit?"
      ],
      "metadata": {
        "id": "PRL4pSo402h9"
      }
    },
    {
      "cell_type": "code",
      "source": [
        "name = \"shakibalhasan\"\n",
        "\n",
        "print(name.isalnum())\n",
        "print(name.isdigit())\n",
        "print(name.isalpha())\n",
        "print(name.isupper())\n",
        "print(name.islower())"
      ],
      "metadata": {
        "id": "8qsLA0ee04oR",
        "outputId": "c0146057-96a7-4c9d-a277-cbf6f2813509",
        "colab": {
          "base_uri": "https://localhost:8080/"
        }
      },
      "execution_count": null,
      "outputs": [
        {
          "output_type": "stream",
          "name": "stdout",
          "text": [
            "True\n",
            "False\n",
            "True\n",
            "False\n",
            "True\n"
          ]
        }
      ]
    }
  ]
}
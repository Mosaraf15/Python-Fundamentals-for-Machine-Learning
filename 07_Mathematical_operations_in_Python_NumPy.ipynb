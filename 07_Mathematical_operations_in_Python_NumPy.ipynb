{
  "nbformat": 4,
  "nbformat_minor": 0,
  "metadata": {
    "colab": {
      "provenance": [],
      "authorship_tag": "ABX9TyPi9uWBDDbwa4OyJ0vVxwyL",
      "include_colab_link": true
    },
    "kernelspec": {
      "name": "python3",
      "display_name": "Python 3"
    },
    "language_info": {
      "name": "python"
    }
  },
  "cells": [
    {
      "cell_type": "markdown",
      "metadata": {
        "id": "view-in-github",
        "colab_type": "text"
      },
      "source": [
        "<a href=\"https://colab.research.google.com/github/Mosaraf15/Python-Fundamentals-for-Machine-Learning/blob/main/07_Mathematical_operations_in_Python_NumPy.ipynb\" target=\"_parent\"><img src=\"https://colab.research.google.com/assets/colab-badge.svg\" alt=\"Open In Colab\"/></a>"
      ]
    },
    {
      "cell_type": "markdown",
      "source": [
        "# Mathematical operations in Python: NumPy\n",
        "**Md Mosaraf Hossain Khan**,\n",
        "\n",
        "Chittagang, Bangladesh\n",
        "\n",
        "#### Objectives:\n",
        "1. Comparison between List and NumPy array\n",
        "2. 1D and 2D NumPy array\n",
        "3. Mathematical and Matrix operation in NumPy array\n",
        "4. NumPy array slicing and filtering\n",
        "\n",
        "#### **References:**\n",
        "\n",
        "Instructor:\n",
        "####**Md Shahidullah Kawsar**,\n",
        "  Data Scientist, IDARE, Houston, TX, USA\n",
        "\n",
        "  1.https://github.com/SKawsar/Python_Fundamentals_s2/blob/main/Lecture_7.ipynb"
      ],
      "metadata": {
        "id": "qzgqyhCWtJ3e"
      }
    },
    {
      "cell_type": "code",
      "execution_count": null,
      "metadata": {
        "colab": {
          "base_uri": "https://localhost:8080/"
        },
        "id": "BIn0qA3IsvbE",
        "outputId": "731ed08f-9e82-4703-a50d-503b86a51975"
      },
      "outputs": [
        {
          "output_type": "stream",
          "name": "stdout",
          "text": [
            "[1, 2, 3, 4, 5, 6, 7, 8, 9, 1, -2, 3, -4, 5, -6, 7, -8, 9]\n"
          ]
        }
      ],
      "source": [
        "import numpy as np\n",
        "\n",
        "\n",
        "list_1 = [1,2,3,4,5,6,7,8,9]\n",
        "list_2 = [1,-2,3,-4,5,-6,7,-8,9]\n",
        "\n",
        "list_add = list_1 + list_2\n",
        "print(list_add)\n",
        "\n",
        "##not allow in list Type error\n",
        "\n",
        "# list_sub = list_1 - list_2\n",
        "# print(list_sub)\n",
        "\n",
        "# list_mul = list_1 * list_2\n",
        "# print(list_mul)\n",
        "\n",
        "# list_sub = list_1 / list_2\n",
        "# print(list_sub)"
      ]
    },
    {
      "cell_type": "code",
      "source": [
        "set(list_1) - set(list_2)"
      ],
      "metadata": {
        "colab": {
          "base_uri": "https://localhost:8080/"
        },
        "id": "S_-Syh9Z1gJa",
        "outputId": "7be32883-d086-47bb-c62d-271783abd5f4"
      },
      "execution_count": null,
      "outputs": [
        {
          "output_type": "execute_result",
          "data": {
            "text/plain": [
              "{2, 4, 6, 8}"
            ]
          },
          "metadata": {},
          "execution_count": 7
        }
      ]
    },
    {
      "cell_type": "code",
      "source": [
        "arr_1 = np.array([1,2,3,4,5,6,7,8,9])\n",
        "arr_2 = np.array([1,-2,3,-4,5,-6,7,-8,9])\n",
        "\n",
        "print(type(arr_1))\n",
        "print(type(arr_2))\n",
        "print(arr_2.dtype)\n",
        "\n",
        "\n",
        "\n",
        "\n",
        "arr_add = np.add(arr_1, arr_2)\n",
        "print(arr_add)\n",
        "print(type(arr_add))\n",
        "\n",
        "arr_sub = np.subtract(arr_1, arr_2)\n",
        "print(arr_sub)\n",
        "\n",
        "\n",
        "arr_mul = np.multiply(arr_1, arr_2)\n",
        "print(arr_mul)\n",
        "\n",
        "\n",
        "arr_div = np.divide(arr_1, arr_2)\n",
        "print(arr_div)\n",
        "\n",
        "arr_mod = np.mod(arr_1, arr_2)\n",
        "print(\"remainder after dividing two arrays = \", arr_mod)"
      ],
      "metadata": {
        "colab": {
          "base_uri": "https://localhost:8080/"
        },
        "id": "U9Ug30LHuIGl",
        "outputId": "84486a57-b1b7-47ce-eff2-767b2e7ec749"
      },
      "execution_count": null,
      "outputs": [
        {
          "output_type": "stream",
          "name": "stdout",
          "text": [
            "<class 'numpy.ndarray'>\n",
            "<class 'numpy.ndarray'>\n",
            "int64\n",
            "[ 2  0  6  0 10  0 14  0 18]\n",
            "<class 'numpy.ndarray'>\n",
            "[ 0  4  0  8  0 12  0 16  0]\n",
            "[  1  -4   9 -16  25 -36  49 -64  81]\n",
            "[ 1. -1.  1. -1.  1. -1.  1. -1.  1.]\n",
            "remainder after dividing two arrays =  [0 0 0 0 0 0 0 0 0]\n"
          ]
        }
      ]
    }
  ]
}